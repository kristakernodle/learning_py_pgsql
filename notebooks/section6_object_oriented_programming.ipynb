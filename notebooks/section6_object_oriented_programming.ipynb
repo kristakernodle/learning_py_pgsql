{
 "cells": [
  {
   "cell_type": "markdown",
   "metadata": {
    "collapsed": true,
    "pycharm": {
     "name": "#%% md\n"
    }
   },
   "source": [
    "# Object Oriented Programming\n",
    "\n",
    "Lecture code from last section\n",
    "\n",
    "student_list = []"
   ]
  },
  {
   "cell_type": "code",
   "execution_count": null,
   "outputs": [],
   "source": [
    "def create_student():\n",
    "    name = input(\"Please enter the new student's name: \")\n",
    "    student_data = {\n",
    "        'name': name,\n",
    "        'marks': []\n",
    "    }\n",
    "    return student_data\n",
    "\n",
    "def add_mark(student, mark):\n",
    "    student['marks'].append(mark)\n",
    "\n",
    "def calculate_average_mark(student):\n",
    "    number = len(student['marks'])\n",
    "    if number == 0:\n",
    "        return 0\n",
    "    total = sum(student['marks'])\n",
    "    return total / number\n",
    "\n",
    "def print_student_details(student):\n",
    "    print(\"{}, average mark: {}.\".format(student['name'],\n",
    "                                         calculate_average_mark(student)))\n",
    "\n",
    "def print_student_list(students):\n",
    "    for i, student in enumerate(students):\n",
    "        print(\"ID: {}\".format(i))\n",
    "        print_student_details(student)\n",
    "\n",
    "def menu():\n",
    "    selection = input(\"Enter 'p' to print the student list, \"\n",
    "                      \"'s' to add a new student, \"\n",
    "                      \"'a' to add a mark to a student, \"\n",
    "                      \"or 'q' to quit. \"\n",
    "                      \"Enter your selection: \")\n",
    "    while selection != 'q':\n",
    "        if selection == 'p':\n",
    "            print_student_list(student_list)\n",
    "        elif selection == 's':\n",
    "            student_list.append(create_student())\n",
    "        elif selection == 'a':\n",
    "            student_id = int(input(\"Enter the student ID to add a mark to: \"))\n",
    "            student = student_list[student_id]\n",
    "            new_mark = int(input(\"Enter the new mark to be added: \"))\n",
    "            add_mark(student, new_mark)\n",
    "        selection = input(\"Enter 'p' to print the student list, \"\n",
    "                          \"'s' to add a new student, \"\n",
    "                          \"'a' to add a mark to a student, \"\n",
    "                          \"or 'q' to quit. \"\n",
    "                          \"Enter your selection: \")\n",
    "\n",
    "\n",
    "menu()"
   ],
   "metadata": {
    "collapsed": false,
    "pycharm": {
     "name": "#%%\n"
    }
   }
  },
  {
   "cell_type": "markdown",
   "source": [
    "## Lecture 1: Classes in Python\n",
    "\n",
    "Using a class allows you to not only have properties and values for those properties, \n",
    "but also methods to be performed on these properties"
   ],
   "metadata": {
    "collapsed": false,
    "pycharm": {
     "name": "#%% md\n"
    }
   }
  },
  {
   "cell_type": "code",
   "execution_count": 9,
   "outputs": [
    {
     "name": "stdout",
     "text": [
      "ID: 0\n",
      "Krista, average mark: 0.\n"
     ],
     "output_type": "stream"
    }
   ],
   "source": [
    "student_list = []\n",
    "\n",
    "class Student:\n",
    "    def __init__(self, name):\n",
    "        self.name = name\n",
    "        self.marks = []\n",
    "        \n",
    "    def calculate_average_mark(self):\n",
    "        number = len(self.marks)\n",
    "        if number == 0:\n",
    "            return 0\n",
    "        return sum(self.marks) / number\n",
    "\n",
    "def create_student():\n",
    "    name = input(\"Please enter the new student's name: \")\n",
    "    student_data = Student(name)\n",
    "    return student_data\n",
    "\n",
    "def add_mark(student, mark):\n",
    "    student.marks.append(mark)\n",
    "\n",
    "def print_student_details(student):\n",
    "    print(\"{}, average mark: {}.\".format(student.name,\n",
    "                                         calculate_average_mark(student)))\n",
    "\n",
    "def print_student_list(students):\n",
    "    for i, student in enumerate(students):\n",
    "        print(\"ID: {}\".format(i))\n",
    "        print_student_details(student)\n",
    "\n",
    "def menu():\n",
    "    selection = input(\"Enter 'p' to print the student list, \"\n",
    "                      \"'s' to add a new student, \"\n",
    "                      \"'a' to add a mark to a student, \"\n",
    "                      \"or 'q' to quit. \"\n",
    "                      \"Enter your selection: \")\n",
    "    while selection != 'q':\n",
    "        if selection == 'p':\n",
    "            print_student_list(student_list)\n",
    "        elif selection == 's':\n",
    "            student_list.append(create_student())\n",
    "        elif selection == 'a':\n",
    "            student_id = int(input(\"Enter the student ID to add a mark to: \"))\n",
    "            student = student_list[student_id]\n",
    "            new_mark = int(input(\"Enter the new mark to be added: \"))\n",
    "            add_mark(student, new_mark)\n",
    "        selection = input(\"Enter 'p' to print the student list, \"\n",
    "                          \"'s' to add a new student, \"\n",
    "                          \"'a' to add a mark to a student, \"\n",
    "                          \"or 'q' to quit. \"\n",
    "                          \"Enter your selection: \")\n",
    "\n",
    "\n",
    "menu()"
   ],
   "metadata": {
    "collapsed": false,
    "pycharm": {
     "name": "#%% \n",
     "is_executing": false
    }
   }
  },
  {
   "cell_type": "markdown",
   "source": [
    "## Lecture 2"
   ],
   "metadata": {
    "collapsed": false,
    "pycharm": {
     "name": "#%% md\n"
    }
   }
  },
  {
   "cell_type": "code",
   "execution_count": null,
   "outputs": [],
   "source": [
    "\n"
   ],
   "metadata": {
    "collapsed": false,
    "pycharm": {
     "name": "#%%\n"
    }
   }
  }
 ],
 "metadata": {
  "kernelspec": {
   "display_name": "Python 3",
   "language": "python",
   "name": "python3"
  },
  "language_info": {
   "codemirror_mode": {
    "name": "ipython",
    "version": 2
   },
   "file_extension": ".py",
   "mimetype": "text/x-python",
   "name": "python",
   "nbconvert_exporter": "python",
   "pygments_lexer": "ipython2",
   "version": "2.7.6"
  },
  "pycharm": {
   "stem_cell": {
    "cell_type": "raw",
    "source": [],
    "metadata": {
     "collapsed": false
    }
   }
  }
 },
 "nbformat": 4,
 "nbformat_minor": 0
}