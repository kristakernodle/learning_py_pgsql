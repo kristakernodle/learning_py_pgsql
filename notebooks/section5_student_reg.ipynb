{
 "cells": [
  {
   "cell_type": "markdown",
   "metadata": {
    "collapsed": true,
    "pycharm": {
     "is_executing": false,
     "name": "#%% md\n"
    }
   },
   "source": [
    "# Creating Student Registration Application\n",
    "\n",
    "## 1. Create a set that contains 3 or 4 numbers and then print it out\n",
    "\n",
    "My code:"
   ]
  },
  {
   "cell_type": "code",
   "execution_count": 11,
   "outputs": [
    {
     "name": "stdout",
     "text": [
      "17, 29, 14, 47\n"
     ],
     "output_type": "stream"
    }
   ],
   "source": [
    "my_set = {17, 14, 29, 47}\n",
    "print(*my_set, sep=\", \")"
   ],
   "metadata": {
    "collapsed": false,
    "pycharm": {
     "name": "#%%\n",
     "is_executing": false
    }
   }
  },
  {
   "cell_type": "markdown",
   "source": [
    "Code from lecture:"
   ],
   "metadata": {
    "collapsed": false,
    "pycharm": {
     "name": "#%% md\n"
    }
   }
  },
  {
   "cell_type": "code",
   "execution_count": 6,
   "outputs": [
    {
     "name": "stdout",
     "text": [
      "{9, 3, 5, 1}\n"
     ],
     "output_type": "stream"
    }
   ],
   "source": [
    "sample_set = {3, 5, 9, 1}\n",
    "print(sample_set)"
   ],
   "metadata": {
    "collapsed": false,
    "pycharm": {
     "name": "#%%\n",
     "is_executing": false
    }
   }
  },
  {
   "cell_type": "markdown",
   "source": [
    "**Reminder** that sets contain unique values\n",
    "    "
   ],
   "metadata": {
    "collapsed": false
   }
  },
  {
   "cell_type": "code",
   "execution_count": 10,
   "outputs": [
    {
     "name": "stdout",
     "text": [
      "{9, 3, 5, 1}\n"
     ],
     "output_type": "stream"
    }
   ],
   "source": [
    "sample_set = {3, 5, 9, 1, 1}\n",
    "print(sample_set)"
   ],
   "metadata": {
    "collapsed": false,
    "pycharm": {
     "name": "#%%\n",
     "is_executing": false
    }
   }
  },
  {
   "cell_type": "markdown",
   "source": [
    "## 2. Creating a dictionary and printing from it\n",
    "\n",
    "Code from lecture:"
   ],
   "metadata": {
    "collapsed": false,
    "pycharm": {
     "name": "#%% md\n"
    }
   }
  },
  {
   "cell_type": "code",
   "execution_count": 9,
   "outputs": [
    {
     "name": "stdout",
     "text": [
      "7\n"
     ],
     "output_type": "stream"
    }
   ],
   "source": [
    "sample_dictionary = {3: 7, 2: 25}\n",
    "print(sample_dictionary[3])"
   ],
   "metadata": {
    "collapsed": false,
    "pycharm": {
     "name": "#%%\n",
     "is_executing": false
    }
   }
  },
  {
   "cell_type": "markdown",
   "source": [
    "## 3. Understanding how dictionaries work\n",
    "\n",
    "Code from lecture:"
   ],
   "metadata": {
    "collapsed": false,
    "pycharm": {
     "name": "#%% md\n"
    }
   }
  },
  {
   "cell_type": "code",
   "execution_count": 12,
   "outputs": [
    {
     "traceback": [
      "\u001b[0;31m---------------------------------------------------------------------------\u001b[0m",
      "\u001b[0;31mKeyError\u001b[0m                                  Traceback (most recent call last)",
      "\u001b[0;32m<ipython-input-12-2cdc742da4c2>\u001b[0m in \u001b[0;36m<module>\u001b[0;34m\u001b[0m\n\u001b[1;32m      1\u001b[0m \u001b[0msample_dictionary\u001b[0m \u001b[0;34m=\u001b[0m \u001b[0;34m{\u001b[0m\u001b[0;34m\"name\"\u001b[0m\u001b[0;34m:\u001b[0m \u001b[0;34m\"Jose\"\u001b[0m\u001b[0;34m,\u001b[0m \u001b[0;34m\"mark\"\u001b[0m\u001b[0;34m:\u001b[0m \u001b[0;36m70\u001b[0m\u001b[0;34m}\u001b[0m\u001b[0;34m\u001b[0m\u001b[0;34m\u001b[0m\u001b[0m\n\u001b[0;32m----> 2\u001b[0;31m \u001b[0mprint\u001b[0m\u001b[0;34m(\u001b[0m\u001b[0msample_dictionary\u001b[0m\u001b[0;34m[\u001b[0m\u001b[0;36m3\u001b[0m\u001b[0;34m]\u001b[0m\u001b[0;34m)\u001b[0m\u001b[0;34m\u001b[0m\u001b[0;34m\u001b[0m\u001b[0m\n\u001b[0m",
      "\u001b[0;31mKeyError\u001b[0m: 3"
     ],
     "ename": "KeyError",
     "evalue": "3",
     "output_type": "error"
    }
   ],
   "source": [
    "sample_dictionary = {\"name\": \"Jose\", \"mark\": 70}\n",
    "print(sample_dictionary[3])"
   ],
   "metadata": {
    "collapsed": false,
    "pycharm": {
     "name": "#%%\n",
     "is_executing": false
    }
   }
  },
  {
   "cell_type": "markdown",
   "source": [
    "A KeyError occurs because the key 3 is not in the dictionary. Our only keys are \"name\" and \"mark\".\n",
    "    "
   ],
   "metadata": {
    "collapsed": false,
    "pycharm": {
     "name": "#%% md\n"
    }
   }
  },
  {
   "cell_type": "code",
   "execution_count": 13,
   "outputs": [
    {
     "name": "stdout",
     "text": [
      "Jose\n"
     ],
     "output_type": "stream"
    }
   ],
   "source": [
    "print(sample_dictionary[\"name\"])"
   ],
   "metadata": {
    "collapsed": false,
    "pycharm": {
     "name": "#%%\n",
     "is_executing": false
    }
   }
  },
  {
   "cell_type": "code",
   "execution_count": 15,
   "outputs": [
    {
     "name": "stdout",
     "text": [
      "Jose\n"
     ],
     "output_type": "stream"
    }
   ],
   "source": [
    "print(sample_dictionary['name'])"
   ],
   "metadata": {
    "collapsed": false,
    "pycharm": {
     "name": "#%%\n",
     "is_executing": false
    }
   }
  },
  {
   "cell_type": "markdown",
   "source": [
    "**A dictionary is a *set* of key-value pairs**\n",
    "\n",
    "## 4. Make a dictionary element with a list value\n",
    "\n",
    "Code from lecture:"
   ],
   "metadata": {
    "collapsed": false,
    "pycharm": {
     "name": "#%% md\n"
    }
   }
  },
  {
   "cell_type": "code",
   "execution_count": 7,
   "outputs": [
    {
     "name": "stdout",
     "text": [
      "[70, 50, 80, 44, 99]\n",
      "70\n"
     ],
     "output_type": "stream"
    }
   ],
   "source": [
    "student = {\"name\": \"Jose\",\n",
    "           \"mark\": [70, 50, 80, 44, 99]}\n",
    "\n",
    "print(student[\"mark\"])\n",
    "print(student[\"mark\"][0])"
   ],
   "metadata": {
    "collapsed": false,
    "pycharm": {
     "name": "#%%\n",
     "is_executing": false
    }
   }
  },
  {
   "cell_type": "code",
   "source": [
    "student = {\"name\": \"Jose\",\n",
    "           \"marks\": [70, 50, 80, 44, 99],\n",
    "           \"exams\": {\n",
    "               \"final\": 70,\n",
    "               \"midterm\": 50\n",
    "           }}\n",
    "\n",
    "print(student['exams']['final'])"
   ],
   "metadata": {
    "collapsed": false,
    "pycharm": {
     "name": "#%%\n",
     "is_executing": false
    }
   },
   "execution_count": 9,
   "outputs": [
    {
     "name": "stdout",
     "text": [
      "70\n"
     ],
     "output_type": "stream"
    }
   ]
  },
  {
   "cell_type": "markdown",
   "source": [
    "**NOTE**: It is not recommended to nest no more than one dictionary in order to keep it from getting messy. \n",
    "This example shows the recommended maximum.\n",
    "\n",
    "## 5. Methods returning dictionaries\n",
    "\n",
    "Creating a method that creates a new student dictionary, which will initially be empty"
   ],
   "metadata": {
    "collapsed": false,
    "pycharm": {
     "name": "#%% md\n"
    }
   }
  },
  {
   "cell_type": "code",
   "execution_count": 11,
   "outputs": [
    {
     "name": "stdout",
     "text": [
      "{'name': 'Krista', 'marks': []}\n"
     ],
     "output_type": "stream"
    }
   ],
   "source": [
    "def create_student():\n",
    "    student_name = input('Enter student name: ')\n",
    "    return {'name': student_name, 'marks': []}\n",
    "\n",
    "print(create_student())"
   ],
   "metadata": {
    "collapsed": false,
    "pycharm": {
     "name": "#%%\n",
     "is_executing": false
    }
   }
  },
  {
   "cell_type": "markdown",
   "source": [
    "## 6. Appending to a list"
   ],
   "metadata": {
    "collapsed": false,
    "pycharm": {
     "name": "#%% md\n"
    }
   }
  },
  {
   "cell_type": "code",
   "execution_count": 12,
   "outputs": [
    {
     "name": "stdout",
     "text": [
      "None\n"
     ],
     "output_type": "stream"
    }
   ],
   "source": [
    "my_list = []\n",
    "print(my_list.append(5))"
   ],
   "metadata": {
    "collapsed": false,
    "pycharm": {
     "name": "#%%\n",
     "is_executing": false
    }
   }
  },
  {
   "cell_type": "markdown",
   "source": [
    "This comes out as 'None' because the append method, which we call on the list, simply modifies the list.\n",
    "There is no return value, and therefore there is nothing to print in the print statement"
   ],
   "metadata": {
    "collapsed": false,
    "pycharm": {
     "name": "#%% md\n"
    }
   }
  },
  {
   "cell_type": "code",
   "execution_count": 14,
   "outputs": [
    {
     "name": "stdout",
     "text": [
      "[5]\n"
     ],
     "output_type": "stream"
    }
   ],
   "source": [
    "print(my_list)"
   ],
   "metadata": {
    "collapsed": false,
    "pycharm": {
     "name": "#%%\n",
     "is_executing": false
    }
   }
  },
  {
   "cell_type": "markdown",
   "source": [
    "## Homework\n",
    "\n",
    "Create a new method that will allow you to append to the marks list of a student"
   ],
   "metadata": {
    "collapsed": false,
    "pycharm": {
     "name": "#%% md\n"
    }
   }
  },
  {
   "cell_type": "code",
   "execution_count": 1,
   "outputs": [
    {
     "name": "stdout",
     "text": [
      "{'name': 'Krista', 'marks': []}\n",
      "[100]\n"
     ],
     "output_type": "stream"
    }
   ],
   "source": [
    "def create_student(name):\n",
    "    return {'name': name, 'marks': []}\n",
    "\n",
    "def add_mark(student, new_mark):\n",
    "    marks = student['marks']\n",
    "    marks.append(new_mark)\n",
    "    student['marks'] = marks\n",
    "\n",
    "krista = create_student('Krista')\n",
    "print(krista)\n",
    "add_mark(krista, 100)\n",
    "print(krista['marks'])"
   ],
   "metadata": {
    "collapsed": false,
    "pycharm": {
     "name": "#%%\n",
     "is_executing": false
    }
   }
  },
  {
   "cell_type": "markdown",
   "source": [
    "Lecture Correction"
   ],
   "metadata": {
    "collapsed": false,
    "pycharm": {
     "name": "#%% md\n"
    }
   }
  },
  {
   "cell_type": "code",
   "execution_count": 2,
   "outputs": [
    {
     "name": "stdout",
     "text": [
      "{'name': 'Krista', 'marks': []}\n",
      "[100]\n"
     ],
     "output_type": "stream"
    }
   ],
   "source": [
    "def create_student(name):\n",
    "    return {'name': name, 'marks': []}\n",
    "\n",
    "def add_mark(student, mark):\n",
    "    student['marks'].append(mark)\n",
    "\n",
    "krista = create_student('Krista')\n",
    "print(krista)\n",
    "add_mark(krista, 100)\n",
    "print(krista['marks'])"
   ],
   "metadata": {
    "collapsed": false,
    "pycharm": {
     "name": "#%%\n",
     "is_executing": false
    }
   }
  },
  {
   "cell_type": "markdown",
   "source": [
    "## 7. The sum() method"
   ],
   "metadata": {
    "collapsed": false,
    "pycharm": {
     "name": "#%% md\n"
    }
   }
  },
  {
   "cell_type": "code",
   "execution_count": 4,
   "outputs": [
    {
     "name": "stdout",
     "text": [
      "No marks yet\n",
      "[100, 95, 97]\n",
      "97.33333333333333\n"
     ],
     "output_type": "stream"
    }
   ],
   "source": [
    "def create_student(name):\n",
    "    return {'name': name, 'marks': []}\n",
    "\n",
    "def add_mark(student, mark):\n",
    "    student['marks'].append(mark)\n",
    "\n",
    "def calculate_average_mark(student):\n",
    "    num_marks = len(student['marks'])\n",
    "    if num_marks == 0:\n",
    "        return 'No marks yet'\n",
    "    return sum(student['marks'])/num_marks\n",
    "\n",
    "krista = create_student('Krista')\n",
    "print(calculate_average_mark(krista))\n",
    "add_mark(krista, 100)\n",
    "add_mark(krista, 95)\n",
    "add_mark(krista, 97)\n",
    "print(krista['marks'])\n",
    "print(calculate_average_mark(krista))\n"
   ],
   "metadata": {
    "collapsed": false,
    "pycharm": {
     "name": "#%%\n",
     "is_executing": false
    }
   }
  },
  {
   "cell_type": "markdown",
   "source": [
    "## 8. Iterating over a list using the dictionaries inside it"
   ],
   "metadata": {
    "collapsed": false,
    "pycharm": {
     "name": "#%% md\n"
    }
   }
  },
  {
   "cell_type": "code",
   "execution_count": 11,
   "outputs": [
    {
     "name": "stdout",
     "text": [
      "Krista, average mark: 40.0\n"
     ],
     "output_type": "stream"
    }
   ],
   "source": [
    "student_list = []\n",
    "\n",
    "def create_student():\n",
    "    name = input('Enter student name: ')\n",
    "    return {'name': name, 'marks': []}\n",
    "\n",
    "def add_mark(student, mark):\n",
    "    student['marks'].append(mark)\n",
    "\n",
    "def calculate_average_mark(student):\n",
    "    num_marks = len(student['marks'])\n",
    "    if num_marks == 0:\n",
    "        return 'No marks yet'\n",
    "    return sum(student['marks'])/num_marks\n",
    "\n",
    "def print_student_details(student):\n",
    "    print(\"{}, average mark: {}\".format(student['name'],\n",
    "                                        calculate_average_mark(student)))\n",
    "\n",
    "def print_student_list(students):\n",
    "    for student in students:\n",
    "        print_student_details(student)\n",
    "\n",
    "def menu():\n",
    "    student_list.append(create_student())\n",
    "    for student in student_list:\n",
    "        add_mark(student, 40)\n",
    "    return print_student_list(student_list)\n",
    "        \n",
    "menu()"
   ],
   "metadata": {
    "collapsed": false,
    "pycharm": {
     "name": "#%%\n",
     "is_executing": false
    }
   }
  },
  {
   "cell_type": "markdown",
   "source": [
    "Code from lecture"
   ],
   "metadata": {
    "collapsed": false,
    "pycharm": {
     "name": "#%% md\n"
    }
   }
  },
  {
   "cell_type": "code",
   "execution_count": 14,
   "outputs": [
    {
     "name": "stdout",
     "text": [
      "ID: 0\n",
      "Krista, average mark: 40.0\n",
      "ID: 0\n",
      "Krista, average mark: 69.5\n"
     ],
     "output_type": "stream"
    }
   ],
   "source": [
    "def print_student_list(students):\n",
    "    for i, student in enumerate(students):\n",
    "        print(\"ID: {}\".format(i))\n",
    "        print_student_details(student)\n",
    "        \n",
    "def menu():\n",
    "    selection = input(\"Enter 'p' to print the student life, \"\n",
    "                      \"'s' to add a new student, \"\n",
    "                      \"'a' to add a mark to a student \"\n",
    "                      \"or 'q' to quit. \"\n",
    "                      \"Enter your selection\")\n",
    "    while selection != 'q':\n",
    "        if selection == 'p':\n",
    "            print_student_list(student_list)\n",
    "        elif selection == 's':\n",
    "            student_list.append(create_student())\n",
    "        elif selection == 'a':\n",
    "            student_id = int(input(\"Enter the student ID to add a mark to: \"))\n",
    "            new_mark = int(input(\"Enter the new mark to be added: \"))\n",
    "            student = student_list[student_id]\n",
    "            add_mark(student, new_mark)\n",
    "            \n",
    "        selection = input(\"Enter 'p' to print the student life, \"\n",
    "                      \"'s' to add a new student, \"\n",
    "                      \"'a' to add a mark to a student \"\n",
    "                      \"or 'q' to quit. \"\n",
    "                      \"Enter your selection\")\n",
    "        \n",
    "menu()\n"
   ],
   "metadata": {
    "collapsed": false,
    "pycharm": {
     "name": "#%%\n",
     "is_executing": false
    }
   }
  }
 ],
 "metadata": {
  "kernelspec": {
   "display_name": "Python 3",
   "language": "python",
   "name": "python3"
  },
  "language_info": {
   "codemirror_mode": {
    "name": "ipython",
    "version": 2
   },
   "file_extension": ".py",
   "mimetype": "text/x-python",
   "name": "python",
   "nbconvert_exporter": "python",
   "pygments_lexer": "ipython2",
   "version": "2.7.6"
  },
  "pycharm": {
   "stem_cell": {
    "cell_type": "raw",
    "source": [],
    "metadata": {
     "collapsed": false
    }
   }
  }
 },
 "nbformat": 4,
 "nbformat_minor": 0
}